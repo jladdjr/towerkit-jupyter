{
 "cells": [
  {
   "cell_type": "markdown",
   "metadata": {},
   "source": [
    "# Dependency resolution"
   ]
  },
  {
   "cell_type": "code",
   "execution_count": null,
   "metadata": {},
   "outputs": [],
   "source": [
    "from start_session import start_session\n",
    "root, v1, v2 = start_session()"
   ]
  },
  {
   "cell_type": "markdown",
   "metadata": {},
   "source": [
    "* Most page objects in tower have a `create()` method\n",
    "* .. that not only creates the top-level method\n",
    "* .. but required dependencies as well\n",
    "\n",
    "Calling `v2.job_templates.create()`, for example, creates:\n",
    "* .. inventory\n",
    "* .. project\n",
    "* .. and job-template itself"
   ]
  },
  {
   "cell_type": "code",
   "execution_count": null,
   "metadata": {},
   "outputs": [],
   "source": [
    "jt = v2.job_templates.create()\n",
    "print(jt)"
   ]
  },
  {
   "cell_type": "markdown",
   "metadata": {},
   "source": [
    "The object returned contains a dependency store (`ds`) that contains references to dependencies"
   ]
  },
  {
   "cell_type": "code",
   "execution_count": null,
   "metadata": {},
   "outputs": [],
   "source": [
    "print(jt.ds)"
   ]
  },
  {
   "cell_type": "markdown",
   "metadata": {},
   "source": [
    "Accessing dependencies is easy.."
   ]
  },
  {
   "cell_type": "code",
   "execution_count": null,
   "metadata": {},
   "outputs": [],
   "source": [
    "print(jt.ds.inventory)"
   ]
  },
  {
   "cell_type": "markdown",
   "metadata": {},
   "source": [
    "The Job Template's inventory is empty by default. Let's try creating one.."
   ]
  },
  {
   "cell_type": "code",
   "execution_count": null,
   "metadata": {},
   "outputs": [],
   "source": [
    "jt.ds.inventory.add_host()"
   ]
  },
  {
   "cell_type": "markdown",
   "metadata": {},
   "source": [
    "💡Calling `JobTemplate.create()` seems to a take a while. Why?\n",
    "\n",
    "A: When `create()` creates a project, it also runs the project update which can take a few seconds. Project updates are one of the most time consuming operations in our tests."
   ]
  },
  {
   "cell_type": "markdown",
   "metadata": {},
   "source": [
    "### Workflow Job Templates"
   ]
  },
  {
   "cell_type": "markdown",
   "metadata": {},
   "source": [
    "How would we create a workflow job template?"
   ]
  },
  {
   "cell_type": "code",
   "execution_count": null,
   "metadata": {},
   "outputs": [],
   "source": [
    "wfjt = v2.workflow_job_templates.create()"
   ]
  },
  {
   "cell_type": "markdown",
   "metadata": {},
   "source": [
    "Does WorkfowJobTemplate's `create()` method automatically create any nodes for us? "
   ]
  },
  {
   "cell_type": "code",
   "execution_count": null,
   "metadata": {},
   "outputs": [],
   "source": [
    "wfjt.related"
   ]
  },
  {
   "cell_type": "code",
   "execution_count": null,
   "metadata": {},
   "outputs": [],
   "source": [
    "wfjt.related.workflow_nodes.get()"
   ]
  },
  {
   "cell_type": "markdown",
   "metadata": {},
   "source": [
    "By default towerkit's dependency resolution creates the _minimum_ set of dependencies required. (This is why the inventory we saw earlier didn't have a host in it).\n",
    "\n",
    "Let's add a node."
   ]
  },
  {
   "cell_type": "code",
   "execution_count": null,
   "metadata": {},
   "outputs": [],
   "source": [
    "n1 = v2.workflow_job_template_nodes.create(workflow_job_template=wfjt)"
   ]
  },
  {
   "cell_type": "markdown",
   "metadata": {},
   "source": [
    "Let's see if our Workflow Job Template shows any nodes now.."
   ]
  },
  {
   "cell_type": "code",
   "execution_count": null,
   "metadata": {},
   "outputs": [],
   "source": [
    "wfjt.related.workflow_nodes.get()"
   ]
  },
  {
   "cell_type": "markdown",
   "metadata": {},
   "source": [
    "### Credentials"
   ]
  },
  {
   "cell_type": "markdown",
   "metadata": {},
   "source": [
    "Let's try creating a credential.."
   ]
  },
  {
   "cell_type": "code",
   "execution_count": null,
   "metadata": {},
   "outputs": [],
   "source": [
    "cred = v2.credentials.create()"
   ]
  },
  {
   "cell_type": "markdown",
   "metadata": {},
   "source": [
    "Wait a minute.. there are lots of cred types. What kind did we just create?"
   ]
  },
  {
   "cell_type": "code",
   "execution_count": null,
   "metadata": {},
   "outputs": [],
   "source": [
    "credential_type = cred.related.credential_type.get()\n",
    "credential_type.name"
   ]
  },
  {
   "cell_type": "markdown",
   "metadata": {},
   "source": [
    "Okay, but what about the other types. Can we create a cloud credential?"
   ]
  },
  {
   "cell_type": "code",
   "execution_count": null,
   "metadata": {},
   "outputs": [],
   "source": [
    "cloud_cred = v2.credentials.create(kind='aws')\n",
    "credential_type = cloud_cred.related.credential_type.get()\n",
    "credential_type.name"
   ]
  },
  {
   "cell_type": "markdown",
   "metadata": {},
   "source": [
    ".. net credential?"
   ]
  },
  {
   "cell_type": "code",
   "execution_count": null,
   "metadata": {},
   "outputs": [],
   "source": [
    "net_cred = v2.credentials.create(kind='net')\n",
    "credential_type = net_cred.related.credential_type.get()\n",
    "credential_type.name"
   ]
  },
  {
   "cell_type": "markdown",
   "metadata": {},
   "source": [
    "There's also..\n",
    "* satellite\n",
    "* cloudforms\n",
    "* azure\n",
    "* gce\n",
    "* vmware\n",
    "* openstack"
   ]
  },
  {
   "cell_type": "code",
   "execution_count": null,
   "metadata": {},
   "outputs": [],
   "source": [
    "kinds = ['satellite6', 'cloudforms', 'gce', 'openstack_v3']\n",
    "for kind in kinds:\n",
    "    cred = v2.credentials.create(kind=kind)\n",
    "    cred_type = cred.related.credential_type.get()\n",
    "    print cred_type.name"
   ]
  },
  {
   "cell_type": "markdown",
   "metadata": {},
   "source": [
    "What about a custom credential?"
   ]
  },
  {
   "cell_type": "code",
   "execution_count": null,
   "metadata": {},
   "outputs": [],
   "source": [
    "custom_credential = v2.credential_types.create()\n",
    "cred = v2.credentials.create(credential_type=custom_credential)"
   ]
  },
  {
   "cell_type": "markdown",
   "metadata": {},
   "source": [
    "### Behind the scenes 🔍"
   ]
  },
  {
   "cell_type": "markdown",
   "metadata": {},
   "source": [
    "* The `create()` method is implemented using the `has_create` mixin ([source](https://github.com/ansible/towerkit/blob/master/towerkit/api/mixins/has_create.py))\n",
    "* `has_create` methods use the [toposort](https://pypi.org/project/toposort/) library to determine resource creation order ([source](https://github.com/ansible/towerkit/blob/master/towerkit/api/mixins/has_create.py#L4))\n",
    "* Each page object lists its dependencies using the `optional_dependencies` class attribute ([source](https://github.com/ansible/towerkit/blob/master/towerkit/api/pages/job_templates.py#L15))"
   ]
  },
  {
   "cell_type": "markdown",
   "metadata": {},
   "source": [
    "### Payloads"
   ]
  },
  {
   "cell_type": "markdown",
   "metadata": {},
   "source": [
    "What if I just want to get the payload that _would_ create a resource (but not actually create the resource)?\n",
    "\n",
    "* In addition to the `create()` method, page objects also have a `create_payload()` method that will create the payload that would be required to create the resource."
   ]
  },
  {
   "cell_type": "code",
   "execution_count": null,
   "metadata": {},
   "outputs": [],
   "source": [
    "v2.job_templates.create_payload()"
   ]
  },
  {
   "cell_type": "markdown",
   "metadata": {},
   "source": [
    "⚠️ Note that even though `create_payload()` doesn't create the top level object (a job template in this case) it does _automatically create any dependencies_ (a project, credential, and inventory, in this case)."
   ]
  },
  {
   "cell_type": "markdown",
   "metadata": {},
   "source": [
    "What if I want a payload, but don't want to automatically create any dependencies?\n",
    "\n",
    "Use the `payload()` method."
   ]
  },
  {
   "cell_type": "code",
   "execution_count": null,
   "metadata": {},
   "outputs": [],
   "source": [
    "v2.job_templates.payload()"
   ]
  }
 ],
 "metadata": {
  "kernelspec": {
   "display_name": "Python 2",
   "language": "python",
   "name": "python2"
  },
  "language_info": {
   "codemirror_mode": {
    "name": "ipython",
    "version": 2
   },
   "file_extension": ".py",
   "mimetype": "text/x-python",
   "name": "python",
   "nbconvert_exporter": "python",
   "pygments_lexer": "ipython2",
   "version": "2.7.5"
  }
 },
 "nbformat": 4,
 "nbformat_minor": 2
}
