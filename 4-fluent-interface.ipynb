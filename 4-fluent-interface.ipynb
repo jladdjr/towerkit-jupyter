{
 "cells": [
  {
   "cell_type": "code",
   "execution_count": null,
   "metadata": {},
   "outputs": [],
   "source": [
    "from start_session import start_session\n",
    "root, v1, v2 = start_session()"
   ]
  },
  {
   "cell_type": "markdown",
   "metadata": {},
   "source": [
    "# Fluent Interface"
   ]
  },
  {
   "cell_type": "markdown",
   "metadata": {},
   "source": [
    "In most cases, towerkit's methods return a reference to the object being acted on. This allows methods to be chained together. For example.."
   ]
  },
  {
   "cell_type": "code",
   "execution_count": null,
   "metadata": {},
   "outputs": [],
   "source": [
    "jt = v2.job_templates.create()\n",
    "job = jt.launch().wait_until_completed()  # chain launch(), wait_until_completed()\n",
    "print(job.is_successful)"
   ]
  },
  {
   "cell_type": "markdown",
   "metadata": {},
   "source": [
    "## Helper methods"
   ]
  },
  {
   "cell_type": "markdown",
   "metadata": {},
   "source": [
    "While towerkit usually tries to mirror the API, some operations are so common that they are covered by helper methods defined in the Page class."
   ]
  },
  {
   "cell_type": "markdown",
   "metadata": {},
   "source": [
    "`InstanceGroup.add_instance`"
   ]
  },
  {
   "cell_type": "code",
   "execution_count": null,
   "metadata": {},
   "outputs": [],
   "source": [
    "ig = v2.instance_groups.create()\n",
    "instance = v2.instances.get().results.pop()\n",
    "ig.add_instance(instance)\n",
    "print [instance.id] == [i.id for i in ig.related.instances.get().results]"
   ]
  },
  {
   "cell_type": "markdown",
   "metadata": {},
   "source": [
    "`Inventory.add_host`"
   ]
  },
  {
   "cell_type": "code",
   "execution_count": null,
   "metadata": {},
   "outputs": [],
   "source": [
    "inventory = v2.inventory.create()\n",
    "host = inventory.add_host()\n",
    "print [host.id] == [h.id for h in inventory.related.hosts.get().results]"
   ]
  },
  {
   "cell_type": "markdown",
   "metadata": {},
   "source": [
    "### Behind the scenes 🔍\n",
    "\n",
    "* Since several helper methods apply to several page objects, they are implemented as mixins ([source](https://github.com/ansible/towerkit/tree/master/towerkit/api/mixins))"
   ]
  }
 ],
 "metadata": {
  "kernelspec": {
   "display_name": "Python 2",
   "language": "python",
   "name": "python2"
  },
  "language_info": {
   "codemirror_mode": {
    "name": "ipython",
    "version": 2
   },
   "file_extension": ".py",
   "mimetype": "text/x-python",
   "name": "python",
   "nbconvert_exporter": "python",
   "pygments_lexer": "ipython2",
   "version": "2.7.5"
  }
 },
 "nbformat": 4,
 "nbformat_minor": 2
}
