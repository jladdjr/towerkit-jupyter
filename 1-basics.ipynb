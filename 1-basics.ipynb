{
 "cells": [
  {
   "cell_type": "markdown",
   "metadata": {},
   "source": [
    "# Towerkit basics"
   ]
  },
  {
   "cell_type": "code",
   "execution_count": null,
   "metadata": {},
   "outputs": [],
   "source": [
    "from start_session import start_session\n",
    "root, v1, v2 = start_session()"
   ]
  },
  {
   "cell_type": "code",
   "execution_count": null,
   "metadata": {},
   "outputs": [],
   "source": [
    "# prep demo\n",
    "from towerkit import config\n",
    "config.validate_schema = False\n",
    "\n",
    "from towerkit.tower.utils import delete_all\n",
    "delete_all(v2)\n",
    "jt = v2.job_templates.create(name='Demo Job Template')"
   ]
  },
  {
   "cell_type": "markdown",
   "metadata": {},
   "source": [
    "### Towerkit initially provides `root`, `v1`, `v2`"
   ]
  },
  {
   "cell_type": "code",
   "execution_count": null,
   "metadata": {},
   "outputs": [],
   "source": [
    "v2.get()"
   ]
  },
  {
   "cell_type": "markdown",
   "metadata": {},
   "source": [
    "### Retrieving resources"
   ]
  },
  {
   "cell_type": "code",
   "execution_count": null,
   "metadata": {},
   "outputs": [],
   "source": [
    "# GET list of job templates\n",
    "v2.job_templates.get()"
   ]
  },
  {
   "cell_type": "code",
   "execution_count": null,
   "metadata": {},
   "outputs": [],
   "source": [
    "# GET particular job template\n",
    "v2.job_templates.get().results.pop()"
   ]
  },
  {
   "cell_type": "code",
   "execution_count": null,
   "metadata": {},
   "outputs": [],
   "source": [
    "# GET using query\n",
    "v2.job_templates.get(name=\"Demo Job Template\").results.pop()"
   ]
  },
  {
   "cell_type": "code",
   "execution_count": null,
   "metadata": {},
   "outputs": [],
   "source": [
    "# PATCH happens automatically by setting an object's attribute\n",
    "jt = v2.job_templates.get(name=\"Demo Job Template\").results.pop()\n",
    "jt.description = \"A random job template\""
   ]
  },
  {
   "cell_type": "code",
   "execution_count": null,
   "metadata": {},
   "outputs": [],
   "source": [
    "# POST\n",
    "payload = {\n",
    " 'email': 'user@email.com',\n",
    " 'first_name': 'John',\n",
    " 'last_name': 'Smith',\n",
    " 'is_superuser': True,\n",
    " 'password': 'p@ssw0rd',\n",
    " 'username': 'john'\n",
    "}\n",
    "v2.users.post(payload)"
   ]
  },
  {
   "cell_type": "markdown",
   "metadata": {},
   "source": [
    ".. but there's a better way"
   ]
  }
 ],
 "metadata": {
  "kernelspec": {
   "display_name": "Python 2",
   "language": "python",
   "name": "python2"
  },
  "language_info": {
   "codemirror_mode": {
    "name": "ipython",
    "version": 2
   },
   "file_extension": ".py",
   "mimetype": "text/x-python",
   "name": "python",
   "nbconvert_exporter": "python",
   "pygments_lexer": "ipython2",
   "version": "2.7.5"
  }
 },
 "nbformat": 4,
 "nbformat_minor": 2
}
